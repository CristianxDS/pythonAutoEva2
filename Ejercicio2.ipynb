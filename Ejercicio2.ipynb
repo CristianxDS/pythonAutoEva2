{
 "cells": [
  {
   "cell_type": "code",
   "execution_count": 2,
   "id": "b8f78d95-973a-41e7-adfa-62ae75f31945",
   "metadata": {},
   "outputs": [
    {
     "name": "stdout",
     "output_type": "stream",
     "text": [
      "Encabezados: ['Planeta enano', 'Diámetro medio*', 'Diámetro (km)', 'Masa*', 'Radio orbital (UA)', 'Periodo orbital(años)', 'Periodo de rotación (días)', 'Satélites naturales', 'Imagen']\n",
      "Ceres: 0\n",
      "Plutón: 5\n",
      "Haumea: 2\n",
      "Makemake: 1\n",
      "Eris: 1\n"
     ]
    }
   ],
   "source": [
    "import requests\n",
    "from bs4 import BeautifulSoup\n",
    "\n",
    "url = \"https://es.wikipedia.org/wiki/Planetas_del_sistema_solar\"\n",
    "respuesta = requests.get(url)\n",
    "respuesta.raise_for_status()\n",
    "soup = BeautifulSoup(respuesta.content, \"html.parser\")\n",
    "tablas = soup.find_all(\"table\", {\"class\": \"wikitable\"})\n",
    "tabla_enanos = tablas[1]\n",
    "\n",
    "cabezaras = tabla_enanos.find_all('th')\n",
    "headers = [th.get_text(strip=True) for th in cabezaras]\n",
    "\n",
    "print(\"Encabezados:\", headers)\n",
    "\n",
    "filas = tabla_enanos.find_all('tr')\n",
    "for fila in filas[1:]: \n",
    "    columnas = fila.find_all('td')\n",
    "    if len(columnas) > 0:\n",
    "        datos = [col.get_text(strip=True) for col in columnas]\n",
    "        planeta_enano = datos[0]\n",
    "        satelites = datos[7]\n",
    "        print(f\"{planeta_enano}: {satelites}\")\n",
    "\n"
   ]
  },
  {
   "cell_type": "code",
   "execution_count": null,
   "id": "7b3286c2-c277-46c4-a2cb-81a5e3f49b80",
   "metadata": {},
   "outputs": [],
   "source": []
  }
 ],
 "metadata": {
  "kernelspec": {
   "display_name": "venv",
   "language": "python",
   "name": "python3"
  },
  "language_info": {
   "codemirror_mode": {
    "name": "ipython",
    "version": 3
   },
   "file_extension": ".py",
   "mimetype": "text/x-python",
   "name": "python",
   "nbconvert_exporter": "python",
   "pygments_lexer": "ipython3",
   "version": "3.13.3"
  }
 },
 "nbformat": 4,
 "nbformat_minor": 5
}
